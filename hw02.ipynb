{
 "cells": [
  {
   "cell_type": "markdown",
   "metadata": {},
   "source": [
    "## Tier 1. Module 3: Basic Algorithms and Data Structures\n",
    "## Topic 2 - Basic data structures\n",
    "## Homework"
   ]
  },
  {
   "cell_type": "markdown",
   "metadata": {},
   "source": [
    "### Task 1"
   ]
  },
  {
   "cell_type": "markdown",
   "metadata": {},
   "source": [
    "Потрібно розробити програму, яка імітує приймання й обробку заявок з використанням черги (`Queue` з модуля `queue` в Python): програма має автоматично генерувати нові заявки (ідентифіковані унікальним номером або іншими даними), додавати їх до черги, а потім послідовно видаляти з черги для \"обробки\", імітуючи таким чином роботу сервісного центру.\n",
    "\n",
    "Повинні бути реалізовані дві основні функції: `generate_request()`, яка генерує нові заявки та додає їх до черги, та `process_request()`, яка обробляє заявки, видаляючи їх із черги. Головний цикл програми виконує ці функції, імітуючи постійний потік нових заявок та їх обробку."
   ]
  },
  {
   "cell_type": "code",
   "execution_count": 28,
   "metadata": {},
   "outputs": [
    {
     "name": "stdout",
     "output_type": "stream",
     "text": [
      "Session opened\n",
      "Generated request: 1\n",
      "Generated request: 2\n",
      "Generated request: 3\n",
      "Generated request: 4\n",
      "Generated request: 5\n",
      "Processing request: 1\n",
      "Finished request: 1\n",
      "Processing request: 2\n",
      "Finished request: 2\n",
      "Processing request: 3\n",
      "Finished request: 3\n",
      "Processing request: 4\n",
      "Finished request: 4\n",
      "Processing request: 5\n",
      "Finished request: 5\n",
      "No requests to process\n",
      "Generated request: 6\n",
      "Generated request: 7\n",
      "Generated request: 8\n",
      "Generated request: 9\n",
      "Generated request: 10\n",
      "Processing request: 6\n",
      "Finished request: 6\n",
      "Processing request: 7\n",
      "Finished request: 7\n",
      "Processing request: 8\n",
      "Finished request: 8\n",
      "Processing request: 9\n",
      "Finished request: 9\n",
      "Processing request: 10\n",
      "Finished request: 10\n",
      "No requests to process\n",
      "Generated request: 11\n",
      "Generated request: 12\n",
      "Processing request: 11\n",
      "Finished request: 11\n",
      "Processing request: 12\n",
      "Finished request: 12\n",
      "No requests to process\n",
      "Session closed. Bye!\n"
     ]
    }
   ],
   "source": [
    "import random\n",
    "import time\n",
    "from queue import Queue\n",
    "\n",
    "\n",
    "def generate_request(request_queue: Queue, request_counter: int) -> None:\n",
    "    \"\"\"\n",
    "    Function that generates requests\n",
    "    \"\"\"\n",
    "    request_id = request_counter\n",
    "    request_queue.put(request_id)\n",
    "    print(f\"Generated request: {request_id}\")\n",
    "\n",
    "\n",
    "def process_request(request_queue: Queue) -> None:\n",
    "    \"\"\"\n",
    "    Function that processes requests\n",
    "    \"\"\"\n",
    "    if not request_queue.empty():\n",
    "        request_id = request_queue.get()\n",
    "        print(f\"Processing request: {request_id}\")\n",
    "        processing_time = random.randint(1, 4)\n",
    "        time.sleep(processing_time)\n",
    "        print(f\"Finished request: {request_id}\")\n",
    "    else:\n",
    "        print(\"No requests to process\")\n",
    "\n",
    "\n",
    "def main() -> None:\n",
    "    \"\"\"\n",
    "    Service center simulation function\n",
    "    \"\"\"\n",
    "    request_queue = Queue()\n",
    "    request_counter = 0\n",
    "\n",
    "    print(\"Session opened\")\n",
    "    while True:\n",
    "        for _ in range(random.randint(1, 5)):\n",
    "            request_counter += 1\n",
    "            generate_request(request_queue, request_counter)\n",
    "            time.sleep(1)\n",
    "\n",
    "        for _ in range(request_queue.qsize() + 1):\n",
    "            process_request(request_queue)\n",
    "\n",
    "        if random.randint(0, 5) == 0:\n",
    "            print(\"Session closed. Bye!\")\n",
    "            break\n",
    "\n",
    "# Testing\n",
    "main()"
   ]
  },
  {
   "cell_type": "markdown",
   "metadata": {},
   "source": [
    "### Task 2"
   ]
  },
  {
   "cell_type": "markdown",
   "metadata": {},
   "source": [
    "Необхідно розробити функцію, яка приймає рядок як вхідний параметр, додає всі його символи до двосторонньої черги (`deque` з модуля `collections` в Python), а потім порівнює символи з обох кінців черги, щоб визначити, чи є рядок паліндромом. Програма повинна правильно враховувати як рядки з парною, так і з непарною кількістю символів, а також бути нечутливою до регістру та пробілів."
   ]
  },
  {
   "cell_type": "code",
   "execution_count": 23,
   "metadata": {},
   "outputs": [
    {
     "name": "stdout",
     "output_type": "stream",
     "text": [
      "Was it a car or a cat I saw? -> True\n",
      "Some random phrase -> False\n"
     ]
    }
   ],
   "source": [
    "from collections import deque\n",
    "\n",
    "\n",
    "def is_palindrome(phrase: str) -> bool:\n",
    "    \"\"\"\n",
    "    A function that checks whether a string is a palindrome\n",
    "    \"\"\"\n",
    "    phrase = (\n",
    "        phrase.lower()\n",
    "        .replace(\" \", \"\")\n",
    "        .replace(\",\", \"\")\n",
    "        .replace(\".\", \"\")\n",
    "        .replace(\"?\", \"\")\n",
    "        .replace(\"!\", \"\")\n",
    "    )\n",
    "    char_queue = deque(phrase)\n",
    "\n",
    "    while len(char_queue) > 1:\n",
    "        if char_queue.popleft() != char_queue.pop():\n",
    "            return False\n",
    "\n",
    "    return True\n",
    "\n",
    "\n",
    "# Test conditions\n",
    "test_phrases = [\"Was it a car or a cat I saw?\", \"Some random phrase\"]\n",
    "\n",
    "for test_phrase in test_phrases:\n",
    "    print(f\"{test_phrase} -> {is_palindrome(test_phrase)}\")"
   ]
  },
  {
   "cell_type": "markdown",
   "metadata": {},
   "source": [
    "### Task 3"
   ]
  },
  {
   "cell_type": "markdown",
   "metadata": {},
   "source": [
    "Напишіть програму, яка читає рядок з послідовністю символів-розділювачів, наприклад, `( ) { [ ] ( ) ( ) { } } }`, і надає відповідне повідомлення, коли розділювачі симетричні, несиметричні, наприклад `( ( ( )`, або коли розділювачі різних видів стоять у парі, як-от `( }`.\n",
    "\n",
    "Використовуйте стек, щоб запам'ятати відкриті в даний момент символи-розділювачі."
   ]
  },
  {
   "cell_type": "code",
   "execution_count": 22,
   "metadata": {},
   "outputs": [
    {
     "name": "stdout",
     "output_type": "stream",
     "text": [
      "( ){[ 1 ]( 1 + 3 )( ){ }} -> True\n",
      "( 23 ( 2 - 3); -> False\n",
      "( 11 } -> False\n"
     ]
    }
   ],
   "source": [
    "def are_brackets_symmetric(expression: str) -> bool:\n",
    "    \"\"\"\n",
    "    A function that checks whether an expression has symmetric brackets\n",
    "    \"\"\"\n",
    "    stack = []\n",
    "    bracket_pairs = {\")\": \"(\", \"}\": \"{\", \"]\": \"[\"}\n",
    "    opening_brackets = bracket_pairs.values()\n",
    "    closing_brackets = bracket_pairs.keys()\n",
    "\n",
    "    for char in expression:\n",
    "        if char in opening_brackets:\n",
    "            stack.append(char)\n",
    "        elif char in closing_brackets:\n",
    "            if not stack or bracket_pairs[char] != stack.pop():\n",
    "                return False\n",
    "\n",
    "    if stack:\n",
    "        return False\n",
    "\n",
    "    return True\n",
    "\n",
    "\n",
    "# Test conditions\n",
    "test_expressions = [\"( ){[ 1 ]( 1 + 3 )( ){ }}\", \"( 23 ( 2 - 3);\", \"( 11 }\"]\n",
    "\n",
    "for test_expression in test_expressions:\n",
    "    print(f\"{test_expression} -> {are_brackets_symmetric(test_expression)}\")"
   ]
  }
 ],
 "metadata": {
  "kernelspec": {
   "display_name": "Python 3",
   "language": "python",
   "name": "python3"
  },
  "language_info": {
   "codemirror_mode": {
    "name": "ipython",
    "version": 3
   },
   "file_extension": ".py",
   "mimetype": "text/x-python",
   "name": "python",
   "nbconvert_exporter": "python",
   "pygments_lexer": "ipython3",
   "version": "3.12.3"
  }
 },
 "nbformat": 4,
 "nbformat_minor": 2
}
